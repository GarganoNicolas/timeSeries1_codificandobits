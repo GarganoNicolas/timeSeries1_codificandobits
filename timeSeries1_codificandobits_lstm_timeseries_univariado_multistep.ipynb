{
  "nbformat": 4,
  "nbformat_minor": 0,
  "metadata": {
    "colab": {
      "provenance": [],
      "include_colab_link": true
    },
    "kernelspec": {
      "name": "python3",
      "display_name": "Python 3"
    },
    "language_info": {
      "name": "python"
    },
    "accelerator": "GPU",
    "gpuClass": "standard"
  },
  "cells": [
    {
      "cell_type": "markdown",
      "metadata": {
        "id": "view-in-github",
        "colab_type": "text"
      },
      "source": [
        "<a href=\"https://colab.research.google.com/github/GarganoNicolas/timeSeries1_codificandobits/blob/main/timeSeries1_codificandobits_lstm_timeseries_univariado_multistep.ipynb\" target=\"_parent\"><img src=\"https://colab.research.google.com/assets/colab-badge.svg\" alt=\"Open In Colab\"/></a>"
      ]
    },
    {
      "cell_type": "markdown",
      "source": [
        "https://drive.google.com/drive/folders/15LxynwTDz0AB7UxSY026mNf8ZlLusb_V\n",
        "\n",
        "\n",
        "https://www.youtube.com/watch?v=TEzTfl_E-3o"
      ],
      "metadata": {
        "id": "i9ML3GaC9l1w"
      }
    },
    {
      "cell_type": "markdown",
      "source": [
        "#*FORECASTING* CON REDES LSTM - PARTE 3: MODELO UNIVARIADO - MULTISTEP"
      ],
      "metadata": {
        "id": "RjNdt4kC7hTA"
      }
    },
    {
      "cell_type": "markdown",
      "source": [
        "## Contenido\n",
        "\n",
        "1. [Introducción](#scrollTo=wHQ1yXwrk6CN)\n",
        "2. [El set de datos](#scrollTo=QDm0J6L-7rGI&line=1&uniqifier=1)\n",
        "3. [El problema a resolver](#scrollTo=CBJV_YRvj5CZ&line=1&uniqifier=1)\n",
        "4. [Lectura del set de datos](#scrollTo=Es6L4nEckb3S&line=1&uniqifier=1)\n",
        "5. [Pre-procesamiento](#scrollTo=vd5lyqNrlfFg)\n",
        "6. [Creación y entrenamiento del modelo](#scrollTo=016D9eVw3Beb)\n",
        "7. [Desempeño del modelo](#scrollTo=ZkI9vr5S69i_)\n",
        "8. [Predicciones con el modelo entrenado](#scrollTo=fvqk4f8L3aXE&line=1&uniqifier=1)\n",
        "9. [Conclusiones y sugerencias](#scrollTo=0AFY2trj_KLo&line=1&uniqifier=1)"
      ],
      "metadata": {
        "id": "QiP8J5o6qgvN"
      }
    },
    {
      "cell_type": "markdown",
      "source": [
        "## 1. Introducción\n",
        "\n",
        "En los tres primeros videos de esta serie hemos visto un panorama general sobre los tipos de predicción y el pre-procesamiento que debemos hacer sobre los datos, así como la implementación del modelo de predicción más sencillo de todos: la Red LSTM univariada-unistep.\n",
        "\n",
        "En este video veremos cómo implementar una Red LSTM que tome a la entrada una sola variable y que a la salida prediga múltiples instantes de tiempo. Así que veremos cómo implementar un modelo de predicción univariado y multistep.\n",
        "\n",
        "Tomaremos como base la mayor parte del código que implementamos en el video anterior, aunque haremos algunas modificaciones al pre-procesamiento de los datos y a la Red LSTM para poder generar predicciones multi-step."
      ],
      "metadata": {
        "id": "wHQ1yXwrk6CN"
      }
    },
    {
      "cell_type": "markdown",
      "source": [
        "##2. El set de datos\n",
        "\n",
        "Recordemos que estamos usando el  [weather dataset](https://www.bgc-jena.mpg.de/wetter/weather_data.html), un set de datos que contiene el registro histórico de 14 diferentes variables climáticas en el período entre 2009 y 2015.\n",
        "\n",
        "En el segundo video de la serie realizamos el análisis exploratorio del dataset y realizamos este pre-procesamiento:\n",
        "\n",
        "1. Hicimos el manejo de datos faltantes\n",
        "2. Verificamos que el dataset no tuviese valores extremos\n",
        "3. Re-interpolamos el dataset para garantizar una periodicidad de 1 hora\n",
        "\n",
        "Este será el set de datos que usaremos en este tutorial."
      ],
      "metadata": {
        "id": "QDm0J6L-7rGI"
      }
    },
    {
      "cell_type": "markdown",
      "source": [
        "##3. El problema a resolver\n",
        "\n",
        "Crear y entrenar una Red LSTM usando el enfoque univariado + multi-step:\n",
        "\n",
        "![](https://drive.google.com/uc?export=view&id=15f7JrWSqoanfqMvselC67AtNWTrdiwPy)\n",
        "\n",
        "De nuevo la variable de entrada y de salida al modelo seguirá siendo una sóla: la temperatura.\n",
        "\n",
        "En lo que resta de este tutorial haremos uso de buena parte de la implementación realizada en el video anterior (modelo univariado + uni-step) y nos enfocaremos sólo en algunas diferencias:\n",
        "\n",
        "- **Pre-procesamiento**: modificaremos la creación del dataset supervisado, para que en lugar de 1 instante de tiempo a futuro el dataset contenga 4 horas de temperatura a futuro\n",
        "- **Red LSTM**: seguirá aceptando el mismo número de horas consecutivas a la entrada (24 horas) pero generará 4 horas de predicción a la salida.\n",
        "- **Desempeño del modelo**: como ahora generará 4 instantes de tiempo consecutivos y no sólo 1 durante la predicción, veremos una forma de analizar el desempeño del modelo en este caso."
      ],
      "metadata": {
        "id": "CBJV_YRvj5CZ"
      }
    },
    {
      "cell_type": "markdown",
      "source": [
        "##4. Lectura del set de datos\n",
        "\n",
        "Recordemos que usaremos el dataset implementado en el [segundo video de la serie](https://youtu.be/R8MEPGn9sFI), sobre el cual ya hemos hecho un pre-procesamiento previo:"
      ],
      "metadata": {
        "id": "Es6L4nEckb3S"
      }
    },
    {
      "cell_type": "code",
      "source": [
        "import pandas as pd\n",
        "import matplotlib.pyplot as plt\n",
        "import numpy as np\n",
        "\n",
        "# Leer set de datos\n",
        "ruta = 'https://raw.githubusercontent.com/GarganoNicolas/timeSeries1_codificandobits/main/weather_dataset_preprocesado.csv'\n",
        "df = pd.read_csv(ruta)\n",
        "df"
      ],
      "metadata": {
        "id": "GvROsCTA8nSB",
        "colab": {
          "base_uri": "https://localhost:8080/",
          "height": 825
        },
        "outputId": "73bd5227-0503-480a-e5a4-f763199dced1"
      },
      "execution_count": 1,
      "outputs": [
        {
          "output_type": "execute_result",
          "data": {
            "text/plain": [
              "                  datetime  p (mbar)  T (degC)  Tpot (K)  Tdew (degC)  rh (%)  \\\n",
              "0      2009-01-01 01:00:00    996.50     -8.05    265.38        -8.78   94.40   \n",
              "1      2009-01-01 02:00:00    996.62     -8.88    264.54        -9.77   93.20   \n",
              "2      2009-01-01 03:00:00    996.84     -8.81    264.59        -9.66   93.50   \n",
              "3      2009-01-01 04:00:00    996.99     -9.05    264.34       -10.02   92.60   \n",
              "4      2009-01-01 05:00:00    997.46     -9.63    263.72       -10.65   92.20   \n",
              "...                    ...       ...       ...       ...          ...     ...   \n",
              "50219  2014-09-24 12:00:00    987.01     13.69    287.92         6.29   60.85   \n",
              "50220  2014-09-24 13:00:00    986.55     14.19    288.47         6.80   61.01   \n",
              "50221  2014-09-24 14:00:00    986.21     14.99    289.30         6.70   57.54   \n",
              "50222  2014-09-24 15:00:00    984.76     15.20    289.63         6.96   57.79   \n",
              "50223  2014-09-24 16:00:00    984.61     14.40    288.84         7.00   61.03   \n",
              "\n",
              "       VPmax (mbar)  VPact (mbar)  VPdef (mbar)  sh (g/kg)  H2OC (mmol/mol)  \\\n",
              "0              3.33          3.14          0.19       1.96             3.15   \n",
              "1              3.12          2.90          0.21       1.81             2.91   \n",
              "2              3.13          2.93          0.20       1.83             2.94   \n",
              "3              3.07          2.85          0.23       1.78             2.85   \n",
              "4              2.94          2.71          0.23       1.69             2.71   \n",
              "...             ...           ...           ...        ...              ...   \n",
              "50219         15.69          9.55          6.14       6.04             9.67   \n",
              "50220         16.21          9.89          6.32       6.26            10.02   \n",
              "50221         17.07          9.82          7.25       6.22             9.96   \n",
              "50222         17.30         10.00          7.30       6.34            10.15   \n",
              "50223         16.43         10.03          6.40       6.36            10.18   \n",
              "\n",
              "       rho (g/m**3)  wv (m/s)  max. wv (m/s)  wd (deg)  \n",
              "0           1307.86      0.21           0.63     192.7  \n",
              "1           1312.25      0.25           0.63     190.3  \n",
              "2           1312.18      0.18           0.63     167.2  \n",
              "3           1313.61      0.10           0.38     240.0  \n",
              "4           1317.19      0.40           0.88     157.0  \n",
              "...             ...       ...            ...       ...  \n",
              "50219       1194.28      2.92           4.00     174.1  \n",
              "50220       1191.48      1.57           2.48     173.0  \n",
              "50221       1187.80      2.79           4.75     202.5  \n",
              "50222       1185.10      2.86           4.32     172.0  \n",
              "50223       1188.20      1.71           2.44     195.1  \n",
              "\n",
              "[50224 rows x 15 columns]"
            ],
            "text/html": [
              "\n",
              "  <div id=\"df-1fefdda6-5ddc-4eb8-892e-35d40883eba8\" class=\"colab-df-container\">\n",
              "    <div>\n",
              "<style scoped>\n",
              "    .dataframe tbody tr th:only-of-type {\n",
              "        vertical-align: middle;\n",
              "    }\n",
              "\n",
              "    .dataframe tbody tr th {\n",
              "        vertical-align: top;\n",
              "    }\n",
              "\n",
              "    .dataframe thead th {\n",
              "        text-align: right;\n",
              "    }\n",
              "</style>\n",
              "<table border=\"1\" class=\"dataframe\">\n",
              "  <thead>\n",
              "    <tr style=\"text-align: right;\">\n",
              "      <th></th>\n",
              "      <th>datetime</th>\n",
              "      <th>p (mbar)</th>\n",
              "      <th>T (degC)</th>\n",
              "      <th>Tpot (K)</th>\n",
              "      <th>Tdew (degC)</th>\n",
              "      <th>rh (%)</th>\n",
              "      <th>VPmax (mbar)</th>\n",
              "      <th>VPact (mbar)</th>\n",
              "      <th>VPdef (mbar)</th>\n",
              "      <th>sh (g/kg)</th>\n",
              "      <th>H2OC (mmol/mol)</th>\n",
              "      <th>rho (g/m**3)</th>\n",
              "      <th>wv (m/s)</th>\n",
              "      <th>max. wv (m/s)</th>\n",
              "      <th>wd (deg)</th>\n",
              "    </tr>\n",
              "  </thead>\n",
              "  <tbody>\n",
              "    <tr>\n",
              "      <th>0</th>\n",
              "      <td>2009-01-01 01:00:00</td>\n",
              "      <td>996.50</td>\n",
              "      <td>-8.05</td>\n",
              "      <td>265.38</td>\n",
              "      <td>-8.78</td>\n",
              "      <td>94.40</td>\n",
              "      <td>3.33</td>\n",
              "      <td>3.14</td>\n",
              "      <td>0.19</td>\n",
              "      <td>1.96</td>\n",
              "      <td>3.15</td>\n",
              "      <td>1307.86</td>\n",
              "      <td>0.21</td>\n",
              "      <td>0.63</td>\n",
              "      <td>192.7</td>\n",
              "    </tr>\n",
              "    <tr>\n",
              "      <th>1</th>\n",
              "      <td>2009-01-01 02:00:00</td>\n",
              "      <td>996.62</td>\n",
              "      <td>-8.88</td>\n",
              "      <td>264.54</td>\n",
              "      <td>-9.77</td>\n",
              "      <td>93.20</td>\n",
              "      <td>3.12</td>\n",
              "      <td>2.90</td>\n",
              "      <td>0.21</td>\n",
              "      <td>1.81</td>\n",
              "      <td>2.91</td>\n",
              "      <td>1312.25</td>\n",
              "      <td>0.25</td>\n",
              "      <td>0.63</td>\n",
              "      <td>190.3</td>\n",
              "    </tr>\n",
              "    <tr>\n",
              "      <th>2</th>\n",
              "      <td>2009-01-01 03:00:00</td>\n",
              "      <td>996.84</td>\n",
              "      <td>-8.81</td>\n",
              "      <td>264.59</td>\n",
              "      <td>-9.66</td>\n",
              "      <td>93.50</td>\n",
              "      <td>3.13</td>\n",
              "      <td>2.93</td>\n",
              "      <td>0.20</td>\n",
              "      <td>1.83</td>\n",
              "      <td>2.94</td>\n",
              "      <td>1312.18</td>\n",
              "      <td>0.18</td>\n",
              "      <td>0.63</td>\n",
              "      <td>167.2</td>\n",
              "    </tr>\n",
              "    <tr>\n",
              "      <th>3</th>\n",
              "      <td>2009-01-01 04:00:00</td>\n",
              "      <td>996.99</td>\n",
              "      <td>-9.05</td>\n",
              "      <td>264.34</td>\n",
              "      <td>-10.02</td>\n",
              "      <td>92.60</td>\n",
              "      <td>3.07</td>\n",
              "      <td>2.85</td>\n",
              "      <td>0.23</td>\n",
              "      <td>1.78</td>\n",
              "      <td>2.85</td>\n",
              "      <td>1313.61</td>\n",
              "      <td>0.10</td>\n",
              "      <td>0.38</td>\n",
              "      <td>240.0</td>\n",
              "    </tr>\n",
              "    <tr>\n",
              "      <th>4</th>\n",
              "      <td>2009-01-01 05:00:00</td>\n",
              "      <td>997.46</td>\n",
              "      <td>-9.63</td>\n",
              "      <td>263.72</td>\n",
              "      <td>-10.65</td>\n",
              "      <td>92.20</td>\n",
              "      <td>2.94</td>\n",
              "      <td>2.71</td>\n",
              "      <td>0.23</td>\n",
              "      <td>1.69</td>\n",
              "      <td>2.71</td>\n",
              "      <td>1317.19</td>\n",
              "      <td>0.40</td>\n",
              "      <td>0.88</td>\n",
              "      <td>157.0</td>\n",
              "    </tr>\n",
              "    <tr>\n",
              "      <th>...</th>\n",
              "      <td>...</td>\n",
              "      <td>...</td>\n",
              "      <td>...</td>\n",
              "      <td>...</td>\n",
              "      <td>...</td>\n",
              "      <td>...</td>\n",
              "      <td>...</td>\n",
              "      <td>...</td>\n",
              "      <td>...</td>\n",
              "      <td>...</td>\n",
              "      <td>...</td>\n",
              "      <td>...</td>\n",
              "      <td>...</td>\n",
              "      <td>...</td>\n",
              "      <td>...</td>\n",
              "    </tr>\n",
              "    <tr>\n",
              "      <th>50219</th>\n",
              "      <td>2014-09-24 12:00:00</td>\n",
              "      <td>987.01</td>\n",
              "      <td>13.69</td>\n",
              "      <td>287.92</td>\n",
              "      <td>6.29</td>\n",
              "      <td>60.85</td>\n",
              "      <td>15.69</td>\n",
              "      <td>9.55</td>\n",
              "      <td>6.14</td>\n",
              "      <td>6.04</td>\n",
              "      <td>9.67</td>\n",
              "      <td>1194.28</td>\n",
              "      <td>2.92</td>\n",
              "      <td>4.00</td>\n",
              "      <td>174.1</td>\n",
              "    </tr>\n",
              "    <tr>\n",
              "      <th>50220</th>\n",
              "      <td>2014-09-24 13:00:00</td>\n",
              "      <td>986.55</td>\n",
              "      <td>14.19</td>\n",
              "      <td>288.47</td>\n",
              "      <td>6.80</td>\n",
              "      <td>61.01</td>\n",
              "      <td>16.21</td>\n",
              "      <td>9.89</td>\n",
              "      <td>6.32</td>\n",
              "      <td>6.26</td>\n",
              "      <td>10.02</td>\n",
              "      <td>1191.48</td>\n",
              "      <td>1.57</td>\n",
              "      <td>2.48</td>\n",
              "      <td>173.0</td>\n",
              "    </tr>\n",
              "    <tr>\n",
              "      <th>50221</th>\n",
              "      <td>2014-09-24 14:00:00</td>\n",
              "      <td>986.21</td>\n",
              "      <td>14.99</td>\n",
              "      <td>289.30</td>\n",
              "      <td>6.70</td>\n",
              "      <td>57.54</td>\n",
              "      <td>17.07</td>\n",
              "      <td>9.82</td>\n",
              "      <td>7.25</td>\n",
              "      <td>6.22</td>\n",
              "      <td>9.96</td>\n",
              "      <td>1187.80</td>\n",
              "      <td>2.79</td>\n",
              "      <td>4.75</td>\n",
              "      <td>202.5</td>\n",
              "    </tr>\n",
              "    <tr>\n",
              "      <th>50222</th>\n",
              "      <td>2014-09-24 15:00:00</td>\n",
              "      <td>984.76</td>\n",
              "      <td>15.20</td>\n",
              "      <td>289.63</td>\n",
              "      <td>6.96</td>\n",
              "      <td>57.79</td>\n",
              "      <td>17.30</td>\n",
              "      <td>10.00</td>\n",
              "      <td>7.30</td>\n",
              "      <td>6.34</td>\n",
              "      <td>10.15</td>\n",
              "      <td>1185.10</td>\n",
              "      <td>2.86</td>\n",
              "      <td>4.32</td>\n",
              "      <td>172.0</td>\n",
              "    </tr>\n",
              "    <tr>\n",
              "      <th>50223</th>\n",
              "      <td>2014-09-24 16:00:00</td>\n",
              "      <td>984.61</td>\n",
              "      <td>14.40</td>\n",
              "      <td>288.84</td>\n",
              "      <td>7.00</td>\n",
              "      <td>61.03</td>\n",
              "      <td>16.43</td>\n",
              "      <td>10.03</td>\n",
              "      <td>6.40</td>\n",
              "      <td>6.36</td>\n",
              "      <td>10.18</td>\n",
              "      <td>1188.20</td>\n",
              "      <td>1.71</td>\n",
              "      <td>2.44</td>\n",
              "      <td>195.1</td>\n",
              "    </tr>\n",
              "  </tbody>\n",
              "</table>\n",
              "<p>50224 rows × 15 columns</p>\n",
              "</div>\n",
              "    <div class=\"colab-df-buttons\">\n",
              "\n",
              "  <div class=\"colab-df-container\">\n",
              "    <button class=\"colab-df-convert\" onclick=\"convertToInteractive('df-1fefdda6-5ddc-4eb8-892e-35d40883eba8')\"\n",
              "            title=\"Convert this dataframe to an interactive table.\"\n",
              "            style=\"display:none;\">\n",
              "\n",
              "  <svg xmlns=\"http://www.w3.org/2000/svg\" height=\"24px\" viewBox=\"0 -960 960 960\">\n",
              "    <path d=\"M120-120v-720h720v720H120Zm60-500h600v-160H180v160Zm220 220h160v-160H400v160Zm0 220h160v-160H400v160ZM180-400h160v-160H180v160Zm440 0h160v-160H620v160ZM180-180h160v-160H180v160Zm440 0h160v-160H620v160Z\"/>\n",
              "  </svg>\n",
              "    </button>\n",
              "\n",
              "  <style>\n",
              "    .colab-df-container {\n",
              "      display:flex;\n",
              "      gap: 12px;\n",
              "    }\n",
              "\n",
              "    .colab-df-convert {\n",
              "      background-color: #E8F0FE;\n",
              "      border: none;\n",
              "      border-radius: 50%;\n",
              "      cursor: pointer;\n",
              "      display: none;\n",
              "      fill: #1967D2;\n",
              "      height: 32px;\n",
              "      padding: 0 0 0 0;\n",
              "      width: 32px;\n",
              "    }\n",
              "\n",
              "    .colab-df-convert:hover {\n",
              "      background-color: #E2EBFA;\n",
              "      box-shadow: 0px 1px 2px rgba(60, 64, 67, 0.3), 0px 1px 3px 1px rgba(60, 64, 67, 0.15);\n",
              "      fill: #174EA6;\n",
              "    }\n",
              "\n",
              "    .colab-df-buttons div {\n",
              "      margin-bottom: 4px;\n",
              "    }\n",
              "\n",
              "    [theme=dark] .colab-df-convert {\n",
              "      background-color: #3B4455;\n",
              "      fill: #D2E3FC;\n",
              "    }\n",
              "\n",
              "    [theme=dark] .colab-df-convert:hover {\n",
              "      background-color: #434B5C;\n",
              "      box-shadow: 0px 1px 3px 1px rgba(0, 0, 0, 0.15);\n",
              "      filter: drop-shadow(0px 1px 2px rgba(0, 0, 0, 0.3));\n",
              "      fill: #FFFFFF;\n",
              "    }\n",
              "  </style>\n",
              "\n",
              "    <script>\n",
              "      const buttonEl =\n",
              "        document.querySelector('#df-1fefdda6-5ddc-4eb8-892e-35d40883eba8 button.colab-df-convert');\n",
              "      buttonEl.style.display =\n",
              "        google.colab.kernel.accessAllowed ? 'block' : 'none';\n",
              "\n",
              "      async function convertToInteractive(key) {\n",
              "        const element = document.querySelector('#df-1fefdda6-5ddc-4eb8-892e-35d40883eba8');\n",
              "        const dataTable =\n",
              "          await google.colab.kernel.invokeFunction('convertToInteractive',\n",
              "                                                    [key], {});\n",
              "        if (!dataTable) return;\n",
              "\n",
              "        const docLinkHtml = 'Like what you see? Visit the ' +\n",
              "          '<a target=\"_blank\" href=https://colab.research.google.com/notebooks/data_table.ipynb>data table notebook</a>'\n",
              "          + ' to learn more about interactive tables.';\n",
              "        element.innerHTML = '';\n",
              "        dataTable['output_type'] = 'display_data';\n",
              "        await google.colab.output.renderOutput(dataTable, element);\n",
              "        const docLink = document.createElement('div');\n",
              "        docLink.innerHTML = docLinkHtml;\n",
              "        element.appendChild(docLink);\n",
              "      }\n",
              "    </script>\n",
              "  </div>\n",
              "\n",
              "\n",
              "<div id=\"df-769c72d3-afb6-4130-ac3e-053f0e3cd5c4\">\n",
              "  <button class=\"colab-df-quickchart\" onclick=\"quickchart('df-769c72d3-afb6-4130-ac3e-053f0e3cd5c4')\"\n",
              "            title=\"Suggest charts\"\n",
              "            style=\"display:none;\">\n",
              "\n",
              "<svg xmlns=\"http://www.w3.org/2000/svg\" height=\"24px\"viewBox=\"0 0 24 24\"\n",
              "     width=\"24px\">\n",
              "    <g>\n",
              "        <path d=\"M19 3H5c-1.1 0-2 .9-2 2v14c0 1.1.9 2 2 2h14c1.1 0 2-.9 2-2V5c0-1.1-.9-2-2-2zM9 17H7v-7h2v7zm4 0h-2V7h2v10zm4 0h-2v-4h2v4z\"/>\n",
              "    </g>\n",
              "</svg>\n",
              "  </button>\n",
              "\n",
              "<style>\n",
              "  .colab-df-quickchart {\n",
              "      --bg-color: #E8F0FE;\n",
              "      --fill-color: #1967D2;\n",
              "      --hover-bg-color: #E2EBFA;\n",
              "      --hover-fill-color: #174EA6;\n",
              "      --disabled-fill-color: #AAA;\n",
              "      --disabled-bg-color: #DDD;\n",
              "  }\n",
              "\n",
              "  [theme=dark] .colab-df-quickchart {\n",
              "      --bg-color: #3B4455;\n",
              "      --fill-color: #D2E3FC;\n",
              "      --hover-bg-color: #434B5C;\n",
              "      --hover-fill-color: #FFFFFF;\n",
              "      --disabled-bg-color: #3B4455;\n",
              "      --disabled-fill-color: #666;\n",
              "  }\n",
              "\n",
              "  .colab-df-quickchart {\n",
              "    background-color: var(--bg-color);\n",
              "    border: none;\n",
              "    border-radius: 50%;\n",
              "    cursor: pointer;\n",
              "    display: none;\n",
              "    fill: var(--fill-color);\n",
              "    height: 32px;\n",
              "    padding: 0;\n",
              "    width: 32px;\n",
              "  }\n",
              "\n",
              "  .colab-df-quickchart:hover {\n",
              "    background-color: var(--hover-bg-color);\n",
              "    box-shadow: 0 1px 2px rgba(60, 64, 67, 0.3), 0 1px 3px 1px rgba(60, 64, 67, 0.15);\n",
              "    fill: var(--button-hover-fill-color);\n",
              "  }\n",
              "\n",
              "  .colab-df-quickchart-complete:disabled,\n",
              "  .colab-df-quickchart-complete:disabled:hover {\n",
              "    background-color: var(--disabled-bg-color);\n",
              "    fill: var(--disabled-fill-color);\n",
              "    box-shadow: none;\n",
              "  }\n",
              "\n",
              "  .colab-df-spinner {\n",
              "    border: 2px solid var(--fill-color);\n",
              "    border-color: transparent;\n",
              "    border-bottom-color: var(--fill-color);\n",
              "    animation:\n",
              "      spin 1s steps(1) infinite;\n",
              "  }\n",
              "\n",
              "  @keyframes spin {\n",
              "    0% {\n",
              "      border-color: transparent;\n",
              "      border-bottom-color: var(--fill-color);\n",
              "      border-left-color: var(--fill-color);\n",
              "    }\n",
              "    20% {\n",
              "      border-color: transparent;\n",
              "      border-left-color: var(--fill-color);\n",
              "      border-top-color: var(--fill-color);\n",
              "    }\n",
              "    30% {\n",
              "      border-color: transparent;\n",
              "      border-left-color: var(--fill-color);\n",
              "      border-top-color: var(--fill-color);\n",
              "      border-right-color: var(--fill-color);\n",
              "    }\n",
              "    40% {\n",
              "      border-color: transparent;\n",
              "      border-right-color: var(--fill-color);\n",
              "      border-top-color: var(--fill-color);\n",
              "    }\n",
              "    60% {\n",
              "      border-color: transparent;\n",
              "      border-right-color: var(--fill-color);\n",
              "    }\n",
              "    80% {\n",
              "      border-color: transparent;\n",
              "      border-right-color: var(--fill-color);\n",
              "      border-bottom-color: var(--fill-color);\n",
              "    }\n",
              "    90% {\n",
              "      border-color: transparent;\n",
              "      border-bottom-color: var(--fill-color);\n",
              "    }\n",
              "  }\n",
              "</style>\n",
              "\n",
              "  <script>\n",
              "    async function quickchart(key) {\n",
              "      const quickchartButtonEl =\n",
              "        document.querySelector('#' + key + ' button');\n",
              "      quickchartButtonEl.disabled = true;  // To prevent multiple clicks.\n",
              "      quickchartButtonEl.classList.add('colab-df-spinner');\n",
              "      try {\n",
              "        const charts = await google.colab.kernel.invokeFunction(\n",
              "            'suggestCharts', [key], {});\n",
              "      } catch (error) {\n",
              "        console.error('Error during call to suggestCharts:', error);\n",
              "      }\n",
              "      quickchartButtonEl.classList.remove('colab-df-spinner');\n",
              "      quickchartButtonEl.classList.add('colab-df-quickchart-complete');\n",
              "    }\n",
              "    (() => {\n",
              "      let quickchartButtonEl =\n",
              "        document.querySelector('#df-769c72d3-afb6-4130-ac3e-053f0e3cd5c4 button');\n",
              "      quickchartButtonEl.style.display =\n",
              "        google.colab.kernel.accessAllowed ? 'block' : 'none';\n",
              "    })();\n",
              "  </script>\n",
              "</div>\n",
              "    </div>\n",
              "  </div>\n"
            ]
          },
          "metadata": {},
          "execution_count": 1
        }
      ]
    },
    {
      "cell_type": "markdown",
      "source": [
        "##5. Pre-procesamiento\n",
        "\n",
        "Implica:\n",
        "\n",
        "1. Partición en train/val/test (80%, 10%, 10%).\n",
        "2. Generación del dataset supervisado: entrada y salida del modelo\n",
        "3. Escalamiento\n",
        "\n",
        "En las fases (1) y (3) usaremos la misma implementación del tutorial anterior, así que nos enfocaremos principalmente en la fase (2) (generación del dataset supervisado)."
      ],
      "metadata": {
        "id": "vd5lyqNrlfFg"
      }
    },
    {
      "cell_type": "markdown",
      "source": [
        "### 5.1. Partición del set en entrenamiento, validación y prueba\n",
        "\n",
        "A diferencia de otros modelos de Machine Learning, en el caso de series de tiempo **se debe garantizar que se generan las particiones sin mezclar aleatoriamente los datos**.\n",
        "\n",
        "Recordemos además que:\n",
        "- El set de entrenamiento (*train*) se usará para encontrar los parámetros del modelo\n",
        "- El set de validación (*val*) para verificar que no haya *under/over-fitting* del modelo y para ajustar sus hiperparámetros\n",
        "- El set de prueba (*test*) para poner a prueba el mejor modelo encontrado durante el entrenamiento/validación"
      ],
      "metadata": {
        "id": "hliQnKgIdfkF"
      }
    },
    {
      "cell_type": "code",
      "source": [
        "# Función para generar las particiones preservando las características\n",
        "# de la serie de tiempo\n",
        "\n",
        "def train_val_test_split(serie, tr_size=0.8, vl_size=0.1, ts_size=0.1 ):\n",
        "    # Definir número de datos en cada subserie\n",
        "    N = serie.shape[0]\n",
        "    Ntrain = int(tr_size*N)  # Número de datos de entrenamiento\n",
        "    Nval = int(vl_size*N)    # Número de datos de validación\n",
        "    Ntst = N - Ntrain - Nval # Número de datos de prueba\n",
        "\n",
        "    # Realizar partición\n",
        "    train = serie[0:Ntrain]\n",
        "    val = serie[Ntrain:Ntrain+Nval]\n",
        "    test = serie[Ntrain+Nval:]\n",
        "\n",
        "    return train, val, test\n",
        "\n",
        "# Prueba de la función\n",
        "tr, vl, ts = train_val_test_split(df['T (degC)'])\n",
        "\n",
        "print(f'Tamaño set de entrenamiento: {tr.shape}')\n",
        "print(f'Tamaño set de validación: {vl.shape}')\n",
        "print(f'Tamaño set de prueba: {ts.shape}')"
      ],
      "metadata": {
        "id": "0U1B93AsdfHI",
        "colab": {
          "base_uri": "https://localhost:8080/"
        },
        "outputId": "49c0c1a3-3ab1-4b0d-b507-9bb48b5859b5"
      },
      "execution_count": 2,
      "outputs": [
        {
          "output_type": "stream",
          "name": "stdout",
          "text": [
            "Tamaño set de entrenamiento: (40179,)\n",
            "Tamaño set de validación: (5022,)\n",
            "Tamaño set de prueba: (5023,)\n"
          ]
        }
      ]
    },
    {
      "cell_type": "code",
      "source": [
        "# Dibujemos los subsets\n",
        "fig, ax = plt.subplots(figsize = (16,5))\n",
        "ax.plot(tr, label='Train')\n",
        "ax.plot(vl, label='Val')\n",
        "ax.plot(ts, label='Test')\n",
        "plt.legend();"
      ],
      "metadata": {
        "id": "-dqJPg1o-s8c",
        "colab": {
          "base_uri": "https://localhost:8080/",
          "height": 319
        },
        "outputId": "bee9d27f-2ab5-48a3-83da-50371aea9f03"
      },
      "execution_count": 3,
      "outputs": [
        {
          "output_type": "display_data",
          "data": {
            "text/plain": [
              "<Figure size 1600x500 with 1 Axes>"
            ],
            "image/png": "[encoded data removed]"
          },
          "metadata": {}
        }
      ]
    },
    {
      "cell_type": "markdown",
      "source": [
        "Observemos que por ser un modelo univariado sólo estamos preservando la variable temperatura (y que incluso hemos eliminado la información de fecha y hora de cada registro)."
      ],
      "metadata": {
        "id": "mPn7OiB1gBZZ"
      }
    },
    {
      "cell_type": "markdown",
      "source": [
        "###5.2 Generación del dataset supervisado (entrada y salida del modelo)\n",
        "\n",
        "Debemos ajustar nuestro set de datos de acuerdo a lo especificado en la [documentación de las Redes LSTM en TensorFlow/Keras](https://www.tensorflow.org/api_docs/python/tf/keras/layers/LSTM):\n",
        "\n",
        "![](https://drive.google.com/uc?export=view&id=167iC5It71vi9QrsjFyEHsU3mGyXbCEPe)"
      ],
      "metadata": {
        "id": "uPygLImygXzB"
      }
    },
    {
      "cell_type": "markdown",
      "source": [
        "Así que en este caso cada dato de entrenamiento será:\n",
        "\n",
        "- Un arreglo de 24 (horas) x 1 (feature) correspondiente a la entrada\n",
        "- Un arreglo de 4 (hora) x 1 (feature) correspondiente a la hora 25 (a predecir):\n",
        "\n",
        "![](https://drive.google.com/uc?export=view&id=16B13bFGkdMkO2UudYBowp6AAA8szblm-)\n",
        "\n",
        "La única diferencia con relación al set de datos supervisado usado en el enfoque univariado + uni-step es que a la salida vamos a predecir 4 horas y no sólo 1.\n",
        "\n",
        "Este parámetro de salida (`OUTPUT_LENGTH = 4`) se convierte en un hiperparámetro que terminará afectando el desempeño de la Red LSTM al momento de hacer las predicciones.\n",
        "\n",
        "Y usaremos la misma función creada en el tutorial anterior:"
      ],
      "metadata": {
        "id": "2yN8RQ1AGxMZ"
      }
    },
    {
      "cell_type": "code",
      "source": [
        "def crear_dataset_supervisado(array, input_length, output_length):\n",
        "    '''Permite crear un dataset con las entradas (X) y salidas (Y)\n",
        "    requeridas por la Red LSTM.\n",
        "\n",
        "    Parámetros:\n",
        "    - array: arreglo numpy de tamaño N x features (N: cantidad de datos,\n",
        "      f: cantidad de features)\n",
        "    - input_length: instantes de tiempo consecutivos de la(s) serie(s) de tiempo\n",
        "      usados para alimentar el modelo\n",
        "    - output_length: instantes de tiempo a pronosticar (salida del modelo)\n",
        "    '''\n",
        "\n",
        "    # Inicialización\n",
        "    X, Y = [], []    # Listados que contendrán los datos de entrada y salida del modelo\n",
        "    shape = array.shape\n",
        "    if len(shape)==1: # Si tenemos sólo una serie (univariado)\n",
        "        fils, cols = array.shape[0], 1\n",
        "        array = array.reshape(fils,cols)\n",
        "    else: # Multivariado\n",
        "        fils, cols = array.shape\n",
        "\n",
        "    # Generar los arreglos\n",
        "    for i in range(fils-input_length-output_length):\n",
        "        X.append(array[i:i+INPUT_LENGTH,0:cols])\n",
        "        Y.append(array[i+input_length:i+input_length+output_length,-1].reshape(output_length,1))\n",
        "\n",
        "    # Convertir listas a arreglos de NumPy\n",
        "    X = np.array(X)\n",
        "    Y = np.array(Y)\n",
        "\n",
        "    return X, Y"
      ],
      "metadata": {
        "id": "EuW8oY1QfnLQ"
      },
      "execution_count": 4,
      "outputs": []
    },
    {
      "cell_type": "code",
      "source": [
        "# Crear los datasets de entrenamiento, prueba y validación y verificar sus tamaños\n",
        "INPUT_LENGTH = 24    # Posteriormente afinaremos este hiperparámetro\n",
        "OUTPUT_LENGTH = 4    # Modelo uni-step: ***EL ÚNICO CAMBIO QUE DEBEMOS HACER***\n",
        "\n",
        "x_tr, y_tr = crear_dataset_supervisado(tr.values, INPUT_LENGTH, OUTPUT_LENGTH)\n",
        "x_vl, y_vl = crear_dataset_supervisado(vl.values, INPUT_LENGTH, OUTPUT_LENGTH)\n",
        "x_ts, y_ts = crear_dataset_supervisado(ts.values, INPUT_LENGTH, OUTPUT_LENGTH)\n",
        "\n",
        "# Imprimir información en pantalla\n",
        "print('Tamaños entrada (BATCHES x INPUT_LENGTH x FEATURES) y de salida (BATCHES x OUTPUT_LENGTH x FEATURES)')\n",
        "print(f'Set de entrenamiento - x_tr: {x_tr.shape}, y_tr: {y_tr.shape}')\n",
        "print(f'Set de validación - x_vl: {x_vl.shape}, y_vl: {y_vl.shape}')\n",
        "print(f'Set de prueba - x_ts: {x_ts.shape}, y_ts: {y_ts.shape}')"
      ],
      "metadata": {
        "id": "bC1cEb9Q0YkX",
        "colab": {
          "base_uri": "https://localhost:8080/"
        },
        "outputId": "970c62ba-5e6c-493d-afad-bce3e856bade"
      },
      "execution_count": 5,
      "outputs": [
        {
          "output_type": "stream",
          "name": "stdout",
          "text": [
            "Tamaños entrada (BATCHES x INPUT_LENGTH x FEATURES) y de salida (BATCHES x OUTPUT_LENGTH x FEATURES)\n",
            "Set de entrenamiento - x_tr: (40151, 24, 1), y_tr: (40151, 4, 1)\n",
            "Set de validación - x_vl: (4994, 24, 1), y_vl: (4994, 4, 1)\n",
            "Set de prueba - x_ts: (4995, 24, 1), y_ts: (4995, 4, 1)\n"
          ]
        }
      ]
    },
    {
      "cell_type": "markdown",
      "source": [
        "###5.3 Escalamiento\n",
        "\n",
        "Es requerido para garantizar que todas las características se encuentran en el mismo rango de valores, lo que facilita el entrenamiento del modelo y las predicciones:"
      ],
      "metadata": {
        "id": "T8Oqcn_FwEXW"
      }
    },
    {
      "cell_type": "code",
      "source": [
        "from sklearn.preprocessing import MinMaxScaler\n",
        "\n",
        "def escalar_dataset(data_input):\n",
        "    '''Escala el dataset en el rango de -1 a 1.\n",
        "\n",
        "    Entradas:\n",
        "    data_input: diccionario con los dataset de entrada y salida del modelo\n",
        "    (data_input = {'x_tr':x_tr, 'y_tr':y_tr, 'x_vl':x_vl, 'y_vl':y_vl,\n",
        "                    'y_ts':y_ts})\n",
        "\n",
        "    Retorna:\n",
        "    - data_scaled: diccionario con los datasets de entrada y salida escalados\n",
        "      (tiene la misma estructura del diccionario de entrada)\n",
        "    - scaler: el escalador usado (requerido para las predicciones)\n",
        "    '''\n",
        "\n",
        "    NFEATS = data_input['x_tr'].shape[2]\n",
        "\n",
        "    # Generar listado con \"scalers\" (en este caso, por ser sólo 1 característica\n",
        "    # se tendrá sólo 1 escalador)\n",
        "    scalers = [MinMaxScaler(feature_range=(-1,1)) for i in range(NFEATS)]\n",
        "\n",
        "    # Arreglos que contendrán los datasets escalados\n",
        "    x_tr_s = np.zeros(data_input['x_tr'].shape)\n",
        "    x_vl_s = np.zeros(data_input['x_vl'].shape)\n",
        "    x_ts_s = np.zeros(data_input['x_ts'].shape)\n",
        "    y_tr_s = np.zeros(data_input['y_tr'].shape)\n",
        "    y_vl_s = np.zeros(data_input['y_vl'].shape)\n",
        "    y_ts_s = np.zeros(data_input['y_ts'].shape)\n",
        "\n",
        "    # Escalamiento: se usarán los min/max del set de entrenamiento para\n",
        "    # escalar la totalidad de los datasets\n",
        "\n",
        "    # Escalamiento Xs\n",
        "    for i in range(NFEATS):\n",
        "        x_tr_s[:,:,i] = scalers[i].fit_transform(x_tr[:,:,i])\n",
        "        x_vl_s[:,:,i] = scalers[i].transform(x_vl[:,:,i])\n",
        "        x_ts_s[:,:,i] = scalers[i].transform(x_ts[:,:,i])\n",
        "\n",
        "    # Escalamiento Ys\n",
        "    y_tr_s[:,:,0] = scalers[-1].fit_transform(y_tr[:,:,0])\n",
        "    y_vl_s[:,:,0] = scalers[-1].transform(y_vl[:,:,0])\n",
        "    y_ts_s[:,:,0] = scalers[-1].transform(y_ts[:,:,0])\n",
        "\n",
        "    # Conformar diccionario de salida\n",
        "    data_scaled = {\n",
        "        'x_tr_s': x_tr_s, 'y_tr_s': y_tr_s,\n",
        "        'x_vl_s': x_vl_s, 'y_vl_s': y_vl_s,\n",
        "        'x_ts_s': x_ts_s, 'y_ts_s': y_ts_s,\n",
        "    }\n",
        "\n",
        "    return data_scaled, scalers[0]"
      ],
      "metadata": {
        "id": "0O-_M_AIj5nR"
      },
      "execution_count": 6,
      "outputs": []
    },
    {
      "cell_type": "code",
      "source": [
        "# Escalamiento del dataset con la función anterior\n",
        "\n",
        "# Crear diccionario de entrada\n",
        "data_in = {\n",
        "    'x_tr': x_tr, 'y_tr': y_tr,\n",
        "    'x_vl': x_vl, 'y_vl': y_vl,\n",
        "    'x_ts': x_ts, 'y_ts': y_ts,\n",
        "}\n",
        "\n",
        "# Y escalar\n",
        "data_s, scaler = escalar_dataset(data_in)\n",
        "\n",
        "# Extraer subsets escalados\n",
        "x_tr_s, y_tr_s = data_s['x_tr_s'], data_s['y_tr_s']\n",
        "x_vl_s, y_vl_s = data_s['x_vl_s'], data_s['y_vl_s']\n",
        "x_ts_s, y_ts_s = data_s['x_ts_s'], data_s['y_ts_s']\n",
        "\n",
        "# Verificación\n",
        "print(f'Min x_tr/x_vl/x_ts sin escalamiento: {x_tr.min()}/{x_vl.min()}/{x_ts.min()}')\n",
        "print(f'Min x_tr/x_vl/x_ts con escalamiento: {x_tr_s.min()}/{x_vl_s.min()}/{x_ts_s.min()}')\n",
        "\n",
        "print(f'\\nMin y_tr/y_vl/y_ts sin escalamiento: {y_tr.min()}/{y_vl.min()}/{y_ts.min()}')\n",
        "print(f'Min y_tr/y_vl/y_ts con escalamiento: {y_tr_s.min()}/{y_vl_s.min()}/{y_ts_s.min()}')\n",
        "\n",
        "print(f'\\nMax x_tr/x_vl/x_ts sin escalamiento: {x_tr.max()}/{x_vl.max()}/{x_ts.max()}')\n",
        "print(f'Max x_tr/x_vl/x_ts con escalamiento: {x_tr_s.max()}/{x_vl_s.max()}/{x_ts_s.max()}')\n",
        "\n",
        "print(f'\\nMax y_tr/y_vl/y_ts sin escalamiento: {y_tr.max()}/{y_vl.max()}/{y_ts.max()}')\n",
        "print(f'Max y_tr/y_vl/y_ts con escalamiento: {y_tr_s.max()}/{y_vl_s.max()}/{y_ts_s.max()}')\n"
      ],
      "metadata": {
        "id": "22NBDLIx0OLw",
        "colab": {
          "base_uri": "https://localhost:8080/"
        },
        "outputId": "21785380-5617-4b9e-9ed9-3c7b768aa391"
      },
      "execution_count": 7,
      "outputs": [
        {
          "output_type": "stream",
          "name": "stdout",
          "text": [
            "Min x_tr/x_vl/x_ts sin escalamiento: -22.76/-9.92/-2.64\n",
            "Min x_tr/x_vl/x_ts con escalamiento: -1.0/-0.5603492552645094/-0.31107687039890414\n",
            "\n",
            "Min y_tr/y_vl/y_ts sin escalamiento: -22.76/-9.92/-2.64\n",
            "Min y_tr/y_vl/y_ts con escalamiento: -1.0/-0.5603492552645094/-0.31107687039890414\n",
            "\n",
            "Max x_tr/x_vl/x_ts sin escalamiento: 35.65/34.34/33.68\n",
            "Max x_tr/x_vl/x_ts con escalamiento: 1.0000000000000002/0.9551446670090742/0.932545796952577\n",
            "\n",
            "Max y_tr/y_vl/y_ts sin escalamiento: 35.65/31.33/33.68\n",
            "Max y_tr/y_vl/y_ts con escalamiento: 1.0000000000000002/0.8520801232665642/0.932545796952577\n"
          ]
        }
      ]
    },
    {
      "cell_type": "markdown",
      "source": [
        "##6. Creación y entrenamiento del modelo\n",
        "\n",
        "- Entradas: arreglos *x* (batches x input-length  x features = batches x 24 x 1)\n",
        "- Salidas: arreglos *y* (batches x output-length x features = batches x 4 x 1)\n",
        "\n",
        "Usaremos la raíz cuadrada del error cuadrático medio (o RMSE por sus siglas en Inglés: *root mean square error*) como pérdida para entrenar el modelo:\n",
        "\n",
        "$RMSE = \\sqrt{\\frac{\\sum_i (y_i-\\hat{y_i})^2}{N}}$\n",
        "\n",
        "donde:\n",
        "- $y$: temperatura real\n",
        "- $\\hat{y}$: temperatura predicha\n",
        "- $N$: cantidad de predicciones"
      ],
      "metadata": {
        "id": "016D9eVw3Beb"
      }
    },
    {
      "cell_type": "code",
      "source": [
        "# Creación del modelo\n",
        "from tensorflow.keras.models import Sequential\n",
        "from tensorflow.keras.layers import LSTM, Dense\n",
        "from tensorflow.keras.optimizers import RMSprop\n",
        "import tensorflow as tf\n",
        "\n",
        "# Ajustar parámetros para reproducibilidad del entrenamiento\n",
        "tf.random.set_seed(123)\n",
        "tf.config.experimental.enable_op_determinism()\n",
        "\n",
        "# El modelo\n",
        "N_UNITS = 128 # Tamaño del estado oculto (h) y de la celdad de memoria (c)\n",
        "INPUT_SHAPE = (x_tr_s.shape[1], x_tr_s.shape[2]) # 24 (horas) x 1 (feature)\n",
        "\n",
        "modelo = Sequential()\n",
        "modelo.add(LSTM(N_UNITS, input_shape=INPUT_SHAPE))\n",
        "\n",
        "# Y lo único que cambia con respecto al modelo univariado + uni-step es\n",
        "# el tamaño deldato de salida\n",
        "modelo.add(Dense(OUTPUT_LENGTH, activation='linear')) # activation = 'linear' pues queremos pronosticar (regresión)\n",
        "\n",
        "# Pérdida: se usará el RMSE (root mean squared error) para el entrenamiento\n",
        "# pues permite tener errores en las mismas unidades de la temperatura\n",
        "def root_mean_squared_error(y_true, y_pred):\n",
        "    rmse = tf.math.sqrt(tf.math.reduce_mean(tf.square(y_pred-y_true)))\n",
        "    return rmse\n",
        "\n",
        "# Compilación\n",
        "optimizador = RMSprop(learning_rate=5e-5)\n",
        "modelo.compile(\n",
        "    optimizer = optimizador,\n",
        "    loss = root_mean_squared_error,\n",
        ")\n",
        "\n",
        "# Entrenamiento (aproximadamente 1 min usando GPU)\n",
        "EPOCHS = 80 # Hiperparámetro\n",
        "BATCH_SIZE = 256 # Hiperparámetro\n",
        "historia = modelo.fit(\n",
        "    x = x_tr_s,\n",
        "    y = y_tr_s,\n",
        "    batch_size = BATCH_SIZE,\n",
        "    epochs = EPOCHS,\n",
        "    validation_data = (x_vl_s, y_vl_s),\n",
        "    verbose=2\n",
        ")"
      ],
      "metadata": {
        "id": "ZzLT0-UP02FP",
        "colab": {
          "base_uri": "https://localhost:8080/"
        },
        "outputId": "37aef4ee-606c-4ef0-cc7f-5a361b539b2b"
      },
      "execution_count": 8,
      "outputs": [
        {
          "output_type": "stream",
          "name": "stdout",
          "text": [
            "Epoch 1/80\n",
            "157/157 - 9s - loss: 0.2277 - val_loss: 0.1074 - 9s/epoch - 60ms/step\n",
            "Epoch 2/80\n",
            "157/157 - 1s - loss: 0.1242 - val_loss: 0.1017 - 834ms/epoch - 5ms/step\n",
            "Epoch 3/80\n",
            "157/157 - 1s - loss: 0.1187 - val_loss: 0.0994 - 705ms/epoch - 4ms/step\n",
            "Epoch 4/80\n",
            "157/157 - 1s - loss: 0.1142 - val_loss: 0.0972 - 723ms/epoch - 5ms/step\n",
            "Epoch 5/80\n",
            "157/157 - 1s - loss: 0.1098 - val_loss: 0.0933 - 711ms/epoch - 5ms/step\n",
            "Epoch 6/80\n",
            "157/157 - 1s - loss: 0.1055 - val_loss: 0.0898 - 874ms/epoch - 6ms/step\n",
            "Epoch 7/80\n",
            "157/157 - 1s - loss: 0.1011 - val_loss: 0.0867 - 1s/epoch - 6ms/step\n",
            "Epoch 8/80\n",
            "157/157 - 1s - loss: 0.0968 - val_loss: 0.0844 - 961ms/epoch - 6ms/step\n",
            "Epoch 9/80\n",
            "157/157 - 1s - loss: 0.0927 - val_loss: 0.0817 - 1s/epoch - 7ms/step\n",
            "Epoch 10/80\n",
            "157/157 - 1s - loss: 0.0893 - val_loss: 0.0812 - 722ms/epoch - 5ms/step\n",
            "Epoch 11/80\n",
            "157/157 - 1s - loss: 0.0866 - val_loss: 0.0787 - 705ms/epoch - 4ms/step\n",
            "Epoch 12/80\n",
            "157/157 - 1s - loss: 0.0844 - val_loss: 0.0750 - 696ms/epoch - 4ms/step\n",
            "Epoch 13/80\n",
            "157/157 - 1s - loss: 0.0827 - val_loss: 0.0736 - 670ms/epoch - 4ms/step\n",
            "Epoch 14/80\n",
            "157/157 - 1s - loss: 0.0811 - val_loss: 0.0723 - 737ms/epoch - 5ms/step\n",
            "Epoch 15/80\n",
            "157/157 - 1s - loss: 0.0796 - val_loss: 0.0716 - 753ms/epoch - 5ms/step\n",
            "Epoch 16/80\n",
            "157/157 - 1s - loss: 0.0781 - val_loss: 0.0699 - 722ms/epoch - 5ms/step\n",
            "Epoch 17/80\n",
            "157/157 - 1s - loss: 0.0767 - val_loss: 0.0695 - 688ms/epoch - 4ms/step\n",
            "Epoch 18/80\n",
            "157/157 - 1s - loss: 0.0752 - val_loss: 0.0680 - 729ms/epoch - 5ms/step\n",
            "Epoch 19/80\n",
            "157/157 - 1s - loss: 0.0739 - val_loss: 0.0665 - 737ms/epoch - 5ms/step\n",
            "Epoch 20/80\n",
            "157/157 - 1s - loss: 0.0726 - val_loss: 0.0654 - 737ms/epoch - 5ms/step\n",
            "Epoch 21/80\n",
            "157/157 - 1s - loss: 0.0713 - val_loss: 0.0646 - 719ms/epoch - 5ms/step\n",
            "Epoch 22/80\n",
            "157/157 - 1s - loss: 0.0702 - val_loss: 0.0637 - 714ms/epoch - 5ms/step\n",
            "Epoch 23/80\n",
            "157/157 - 1s - loss: 0.0692 - val_loss: 0.0632 - 896ms/epoch - 6ms/step\n",
            "Epoch 24/80\n",
            "157/157 - 1s - loss: 0.0683 - val_loss: 0.0628 - 1s/epoch - 7ms/step\n",
            "Epoch 25/80\n",
            "157/157 - 1s - loss: 0.0675 - val_loss: 0.0616 - 1s/epoch - 7ms/step\n",
            "Epoch 26/80\n",
            "157/157 - 1s - loss: 0.0669 - val_loss: 0.0612 - 989ms/epoch - 6ms/step\n",
            "Epoch 27/80\n",
            "157/157 - 1s - loss: 0.0663 - val_loss: 0.0607 - 776ms/epoch - 5ms/step\n",
            "Epoch 28/80\n",
            "157/157 - 1s - loss: 0.0658 - val_loss: 0.0608 - 745ms/epoch - 5ms/step\n",
            "Epoch 29/80\n",
            "157/157 - 1s - loss: 0.0653 - val_loss: 0.0601 - 745ms/epoch - 5ms/step\n",
            "Epoch 30/80\n",
            "157/157 - 1s - loss: 0.0649 - val_loss: 0.0600 - 726ms/epoch - 5ms/step\n",
            "Epoch 31/80\n",
            "157/157 - 1s - loss: 0.0646 - val_loss: 0.0593 - 721ms/epoch - 5ms/step\n",
            "Epoch 32/80\n",
            "157/157 - 1s - loss: 0.0642 - val_loss: 0.0596 - 756ms/epoch - 5ms/step\n",
            "Epoch 33/80\n",
            "157/157 - 1s - loss: 0.0639 - val_loss: 0.0590 - 733ms/epoch - 5ms/step\n",
            "Epoch 34/80\n",
            "157/157 - 1s - loss: 0.0635 - val_loss: 0.0585 - 712ms/epoch - 5ms/step\n",
            "Epoch 35/80\n",
            "157/157 - 1s - loss: 0.0632 - val_loss: 0.0581 - 742ms/epoch - 5ms/step\n",
            "Epoch 36/80\n",
            "157/157 - 1s - loss: 0.0629 - val_loss: 0.0580 - 692ms/epoch - 4ms/step\n",
            "Epoch 37/80\n",
            "157/157 - 1s - loss: 0.0625 - val_loss: 0.0577 - 704ms/epoch - 4ms/step\n",
            "Epoch 38/80\n",
            "157/157 - 1s - loss: 0.0623 - val_loss: 0.0574 - 730ms/epoch - 5ms/step\n",
            "Epoch 39/80\n",
            "157/157 - 1s - loss: 0.0620 - val_loss: 0.0570 - 690ms/epoch - 4ms/step\n",
            "Epoch 40/80\n",
            "157/157 - 1s - loss: 0.0617 - val_loss: 0.0567 - 694ms/epoch - 4ms/step\n",
            "Epoch 41/80\n",
            "157/157 - 1s - loss: 0.0614 - val_loss: 0.0570 - 978ms/epoch - 6ms/step\n",
            "Epoch 42/80\n",
            "157/157 - 1s - loss: 0.0612 - val_loss: 0.0563 - 995ms/epoch - 6ms/step\n",
            "Epoch 43/80\n",
            "157/157 - 1s - loss: 0.0609 - val_loss: 0.0560 - 1s/epoch - 7ms/step\n",
            "Epoch 44/80\n",
            "157/157 - 1s - loss: 0.0607 - val_loss: 0.0557 - 933ms/epoch - 6ms/step\n",
            "Epoch 45/80\n",
            "157/157 - 1s - loss: 0.0604 - val_loss: 0.0555 - 730ms/epoch - 5ms/step\n",
            "Epoch 46/80\n",
            "157/157 - 1s - loss: 0.0602 - val_loss: 0.0553 - 902ms/epoch - 6ms/step\n",
            "Epoch 47/80\n",
            "157/157 - 1s - loss: 0.0599 - val_loss: 0.0555 - 759ms/epoch - 5ms/step\n",
            "Epoch 48/80\n",
            "157/157 - 1s - loss: 0.0597 - val_loss: 0.0548 - 710ms/epoch - 5ms/step\n",
            "Epoch 49/80\n",
            "157/157 - 1s - loss: 0.0595 - val_loss: 0.0547 - 686ms/epoch - 4ms/step\n",
            "Epoch 50/80\n",
            "157/157 - 1s - loss: 0.0593 - val_loss: 0.0547 - 716ms/epoch - 5ms/step\n",
            "Epoch 51/80\n",
            "157/157 - 1s - loss: 0.0591 - val_loss: 0.0542 - 709ms/epoch - 5ms/step\n",
            "Epoch 52/80\n",
            "157/157 - 1s - loss: 0.0589 - val_loss: 0.0547 - 704ms/epoch - 4ms/step\n",
            "Epoch 53/80\n",
            "157/157 - 1s - loss: 0.0587 - val_loss: 0.0541 - 704ms/epoch - 4ms/step\n",
            "Epoch 54/80\n",
            "157/157 - 1s - loss: 0.0585 - val_loss: 0.0537 - 1s/epoch - 7ms/step\n",
            "Epoch 55/80\n",
            "157/157 - 1s - loss: 0.0583 - val_loss: 0.0537 - 1s/epoch - 8ms/step\n",
            "Epoch 56/80\n",
            "157/157 - 2s - loss: 0.0581 - val_loss: 0.0533 - 2s/epoch - 10ms/step\n",
            "Epoch 57/80\n",
            "157/157 - 2s - loss: 0.0580 - val_loss: 0.0531 - 2s/epoch - 12ms/step\n",
            "Epoch 58/80\n",
            "157/157 - 2s - loss: 0.0578 - val_loss: 0.0531 - 2s/epoch - 12ms/step\n",
            "Epoch 59/80\n",
            "157/157 - 2s - loss: 0.0576 - val_loss: 0.0529 - 2s/epoch - 10ms/step\n",
            "Epoch 60/80\n",
            "157/157 - 2s - loss: 0.0575 - val_loss: 0.0528 - 2s/epoch - 10ms/step\n",
            "Epoch 61/80\n",
            "157/157 - 1s - loss: 0.0573 - val_loss: 0.0526 - 1s/epoch - 8ms/step\n",
            "Epoch 62/80\n",
            "157/157 - 1s - loss: 0.0572 - val_loss: 0.0527 - 1s/epoch - 8ms/step\n",
            "Epoch 63/80\n",
            "157/157 - 1s - loss: 0.0570 - val_loss: 0.0523 - 1s/epoch - 7ms/step\n",
            "Epoch 64/80\n",
            "157/157 - 1s - loss: 0.0569 - val_loss: 0.0521 - 724ms/epoch - 5ms/step\n",
            "Epoch 65/80\n",
            "157/157 - 1s - loss: 0.0567 - val_loss: 0.0534 - 733ms/epoch - 5ms/step\n",
            "Epoch 66/80\n",
            "157/157 - 1s - loss: 0.0566 - val_loss: 0.0524 - 708ms/epoch - 5ms/step\n",
            "Epoch 67/80\n",
            "157/157 - 1s - loss: 0.0564 - val_loss: 0.0522 - 877ms/epoch - 6ms/step\n",
            "Epoch 68/80\n",
            "157/157 - 1s - loss: 0.0563 - val_loss: 0.0516 - 945ms/epoch - 6ms/step\n",
            "Epoch 69/80\n",
            "157/157 - 1s - loss: 0.0562 - val_loss: 0.0519 - 1s/epoch - 7ms/step\n",
            "Epoch 70/80\n",
            "157/157 - 1s - loss: 0.0560 - val_loss: 0.0513 - 1s/epoch - 7ms/step\n",
            "Epoch 71/80\n",
            "157/157 - 1s - loss: 0.0559 - val_loss: 0.0514 - 754ms/epoch - 5ms/step\n",
            "Epoch 72/80\n",
            "157/157 - 1s - loss: 0.0558 - val_loss: 0.0511 - 707ms/epoch - 5ms/step\n",
            "Epoch 73/80\n",
            "157/157 - 1s - loss: 0.0557 - val_loss: 0.0510 - 732ms/epoch - 5ms/step\n",
            "Epoch 74/80\n",
            "157/157 - 1s - loss: 0.0556 - val_loss: 0.0510 - 664ms/epoch - 4ms/step\n",
            "Epoch 75/80\n",
            "157/157 - 1s - loss: 0.0554 - val_loss: 0.0513 - 716ms/epoch - 5ms/step\n",
            "Epoch 76/80\n",
            "157/157 - 1s - loss: 0.0553 - val_loss: 0.0507 - 719ms/epoch - 5ms/step\n",
            "Epoch 77/80\n",
            "157/157 - 1s - loss: 0.0552 - val_loss: 0.0509 - 704ms/epoch - 4ms/step\n",
            "Epoch 78/80\n",
            "157/157 - 1s - loss: 0.0551 - val_loss: 0.0505 - 712ms/epoch - 5ms/step\n",
            "Epoch 79/80\n",
            "157/157 - 1s - loss: 0.0550 - val_loss: 0.0504 - 702ms/epoch - 4ms/step\n",
            "Epoch 80/80\n",
            "157/157 - 1s - loss: 0.0549 - val_loss: 0.0504 - 724ms/epoch - 5ms/step\n"
          ]
        }
      ]
    },
    {
      "cell_type": "code",
      "source": [
        " # Graficar curvas de entrenamiento y validación\n",
        " # para verificar que no existe overfitting\n",
        "plt.plot(historia.history['loss'],label='RMSE train')\n",
        "plt.plot(historia.history['val_loss'],label='RMSE val')\n",
        "plt.xlabel('Iteración')\n",
        "plt.ylabel('RMSE')\n",
        "plt.legend();"
      ],
      "metadata": {
        "id": "JeLuM5w01hbZ",
        "colab": {
          "base_uri": "https://localhost:8080/",
          "height": 449
        },
        "outputId": "4beaca4a-1ff9-4b8c-ccdf-37b0cee5ad78"
      },
      "execution_count": 9,
      "outputs": [
        {
          "output_type": "display_data",
          "data": {
            "text/plain": [
              "<Figure size 640x480 with 1 Axes>"
            ],
            "image/png": "[encoded data removed]"
          },
          "metadata": {}
        }
      ]
    },
    {
      "cell_type": "markdown",
      "source": [
        "**Observaciones y sugerencias:**\n",
        "\n",
        "- El modelo no tiene *overfitting* (algo similar a lo que ocurrió con el modelo univariado + uni-step)\n",
        "- El modelo podría ser entrenado con un número mayor de iteraciones (hiperparámetro).\n",
        "- Al igual que en el tutorial anterior, se sugiere afinar el modelo modificando varios de sus hiperparámetros y usando técnicas como, por ejemplo, *random grid search*. Los hiperparámetros a afinar pueden ser:\n",
        "  - *INPUT_LENGTH* y *OUTPUT_LENGTH* (esto implica modificar la fase de pre-procesamiento)\n",
        "  - Número de unidades de la Red LSTM\n",
        "  - Pérdida\n",
        "  - Tasa de aprendizaje\n",
        "  - Epochs\n",
        "  - Batch size\n"
      ],
      "metadata": {
        "id": "nWO45OqI6kq9"
      }
    },
    {
      "cell_type": "markdown",
      "source": [
        "## 7. Desempeño del modelo\n",
        "\n",
        "Suponiendo que el modelo ya ha sido afinado y entrenado, verificaremos su desempeño para el set de prueba y lo compararemos con el desempeño obtenido con los sets de entrenamiento y validación:"
      ],
      "metadata": {
        "id": "ZkI9vr5S69i_"
      }
    },
    {
      "cell_type": "code",
      "source": [
        "# Cálculo de rmses para train, val y test\n",
        "rmse_tr = modelo.evaluate(x=x_tr_s, y=y_tr_s, verbose=0)\n",
        "rmse_vl = modelo.evaluate(x=x_vl_s, y=y_vl_s, verbose=0)\n",
        "rmse_ts = modelo.evaluate(x=x_ts_s, y=y_ts_s, verbose=0)\n",
        "\n",
        "# Imprimir resultados en pantalla\n",
        "print('Comparativo desempeños:')\n",
        "print(f'  RMSE train:\\t {rmse_tr:.3f}')\n",
        "print(f'  RMSE val:\\t {rmse_vl:.3f}')\n",
        "print(f'  RMSE test:\\t {rmse_ts:.3f}')"
      ],
      "metadata": {
        "id": "QuX5n8_17MqV",
        "colab": {
          "base_uri": "https://localhost:8080/"
        },
        "outputId": "f8e99d69-3abe-461d-aa66-3137c3009229"
      },
      "execution_count": 10,
      "outputs": [
        {
          "output_type": "stream",
          "name": "stdout",
          "text": [
            "Comparativo desempeños:\n",
            "  RMSE train:\t 0.052\n",
            "  RMSE val:\t 0.048\n",
            "  RMSE test:\t 0.055\n"
          ]
        }
      ]
    },
    {
      "cell_type": "markdown",
      "source": [
        "Los desempeños son comparables, aunque con el set de prueba se obtiene un RMSE ligeramente superior al de entrenamiento.\n",
        "\n",
        "De nuevo, esto podría mejorar con la afinación del modelo."
      ],
      "metadata": {
        "id": "iPSAEAAM7vmP"
      }
    },
    {
      "cell_type": "markdown",
      "source": [
        "Ahora podemos ir un paso más allá y analizar el desempeño en detalle para el set de prueba.\n",
        "\n",
        "Como en este caso tenemos 4 horas de predicciones (en lugar de 1 sola) podemos analizar cómo se comporta el error en las predicciones para cada una de las 4 horas predichas.\n",
        "\n",
        "Para esto:\n",
        "- Generaremos las predicciones sobre la totalidad del set de prueba con el modelo entrenado.\n",
        "- Calcularemos y graficaremos el RMSE para cada instante de tiempo predicho\n"
      ],
      "metadata": {
        "id": "TSj0uSi_llOI"
      }
    },
    {
      "cell_type": "code",
      "source": [
        "# 1. Generar las predicciones sobre el set de prueba\n",
        "y_ts_pred_s = modelo.predict(x_ts_s, verbose=0)\n",
        "\n",
        "# 2. Realizar la transformación inversa de las predicciones para llevar sus\n",
        "# valores a la escala original\n",
        "y_ts_pred = scaler.inverse_transform(y_ts_pred_s)\n",
        "\n",
        "# 3. Calcular RMSE para cada instante de tiempo predicho\n",
        "diff_cuad = np.square(y_ts.squeeze()-y_ts_pred) # 4995x4\n",
        "proms = np.mean(diff_cuad, axis=0) # 1x4\n",
        "rmse = np.sqrt(proms) # 1x4\n",
        "\n",
        "# Graficar rmse para cada timestep\n",
        "t = np.linspace(1,4,4)\n",
        "\n",
        "fig, ax = plt.subplots()\n",
        "ax.scatter(t,rmse)\n",
        "ax.set_xlabel('Hora predicha')\n",
        "ax.set_ylabel('Error RMSE (°C)')\n",
        "plt.xticks(ticks=t, labels=t)\n",
        "plt.grid();"
      ],
      "metadata": {
        "id": "pg3odZJ5lktI",
        "colab": {
          "base_uri": "https://localhost:8080/",
          "height": 449
        },
        "outputId": "efb1b7a7-f324-4ff7-885f-e808e0135104"
      },
      "execution_count": 11,
      "outputs": [
        {
          "output_type": "display_data",
          "data": {
            "text/plain": [
              "<Figure size 640x480 with 1 Axes>"
            ],
            "image/png": "[encoded data removed]"
          },
          "metadata": {}
        }
      ]
    },
    {
      "cell_type": "markdown",
      "source": [
        "Vemos que el RMSE se incrementa a medida que pasan las horas predichas, pasando de un error de 0.5 °C para la primera hora a un error de un poco más de 2.2 °C para la cuarta hora.\n",
        "\n",
        "Esto nos permite plantear algunas hipótesis:\n",
        "\n",
        "- Probablemente un incremento en el número de horas predichas generará un incremento en el RMSE\n",
        "- Se podría reducir el RMSE al afinar el modelo\n",
        "- Se podría mejorar el desempeño usando un modelo multivariado - multistep"
      ],
      "metadata": {
        "id": "Z05i6YXCoSy2"
      }
    },
    {
      "cell_type": "markdown",
      "source": [
        "##8. Predicciones con el modelo entrenado\n",
        "\n",
        "Suponiendo que el modelo ya ha sido afinado, podemos ponerlo a prueba con el set *test*.\n",
        "\n",
        "Usaremos la misma función `predecir` implementada en el video anterior:"
      ],
      "metadata": {
        "id": "fvqk4f8L3aXE"
      }
    },
    {
      "cell_type": "code",
      "source": [
        "def predecir(x, model, scaler):\n",
        "    '''Genera la predicción de OUTPUT_LENGTH instantes\n",
        "    de tiempo a futuro con el modelo entrenado.\n",
        "\n",
        "    Entrada:\n",
        "    - x: batch (o batches) de datos para ingresar al modelo\n",
        "      (tamaño: BATCHES X INPUT_LENGTH X FEATURES)\n",
        "    - model: Red LSTM entrenada\n",
        "    - scaler: escalador (requerido para llevar la predicción a la escala original)\n",
        "\n",
        "    Salida:\n",
        "    - y_pred: la predicción en la escala original (tamaño: BATCHES X OUTPUT_LENGTH X FEATURES)\n",
        "    '''\n",
        "\n",
        "    # Calcular predicción escalada en el rango de -1 a 1\n",
        "    y_pred_s = model.predict(x,verbose=0)\n",
        "\n",
        "    # Llevar la predicción a la escala original\n",
        "    y_pred = scaler.inverse_transform(y_pred_s)\n",
        "\n",
        "    return y_pred.flatten()"
      ],
      "metadata": {
        "id": "loi8x-hl3vtj"
      },
      "execution_count": 12,
      "outputs": []
    },
    {
      "cell_type": "code",
      "source": [
        "# Calcular predicciones sobre el set de prueba\n",
        "y_ts_pred = predecir(x_ts_s, modelo, scaler)"
      ],
      "metadata": {
        "id": "8-W5qJKV46Oy"
      },
      "execution_count": 13,
      "outputs": []
    },
    {
      "cell_type": "markdown",
      "source": [
        "Analicemos este desempeño gráficamente mostrando las temperaturas originales y las predichas por el modelo para cada uno de los datos en el set de prueba:"
      ],
      "metadata": {
        "id": "ulWV0CfZ5ZHV"
      }
    },
    {
      "cell_type": "code",
      "source": [
        "N = len(y_ts_pred)    # Número de predicciones\n",
        "ndato = np.linspace(1,N,N)\n",
        "\n",
        "# Cálculo de errores simples\n",
        "errores = y_ts.flatten()-y_ts_pred\n",
        "plt.plot(errores);"
      ],
      "metadata": {
        "id": "xRLMWnEt5JM1",
        "colab": {
          "base_uri": "https://localhost:8080/",
          "height": 430
        },
        "outputId": "e144bd20-91a6-4500-f820-60bde2a0b10e"
      },
      "execution_count": 14,
      "outputs": [
        {
          "output_type": "display_data",
          "data": {
            "text/plain": [
              "<Figure size 640x480 with 1 Axes>"
            ],
            "image/png": "[encoded data removed]"
          },
          "metadata": {}
        }
      ]
    },
    {
      "cell_type": "markdown",
      "source": [
        "Se observa que:\n",
        "\n",
        "- El promedio de errores es cercano a cero\n",
        "- Pero en algunos instantes de tiempo se alcanzan errores extremos de hasta -10 y +10 grados.\n",
        "\n",
        "Estos errores se podrían reducir al hacer una afinación del modelo o modificando el enfoque de predicción."
      ],
      "metadata": {
        "id": "PjQ15_P8-sBh"
      }
    },
    {
      "cell_type": "markdown",
      "source": [
        "## 9. Conclusiones y sugerencias\n",
        "\n",
        "- Hemos entrenado un segundo modelo univariado + multi-step\n",
        "- Lo único que cambia en la implementación con respecto al modelo univariado + uni-step es la creación del set de datos supervisado y la creación de la Red LSTM.\n",
        "- Se observa que el RMSE se incrementa a medida que aumentan las horas predichas, y que en generar los niveles de error para predicciones individuales aumentan con relación al modelo univariado + uni-step.\n",
        "- El desempeño podría mejorar si se usa un enfoque de predicción diferente (por ejemplo multivariado + multi-step) o si se afina el modelo.\n",
        "\n",
        "En el próximo video comenzaremos a enfocarnos en el desarrollo de modelos que aceptarán como entrada múltiples variables. Así que específicamente veremos cómo realizar predicciones usando el enfoque multivariado + uni-step."
      ],
      "metadata": {
        "id": "0AFY2trj_KLo"
      }
    }
  ]
}